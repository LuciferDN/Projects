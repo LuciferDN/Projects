{
 "cells": [
  {
   "cell_type": "markdown",
   "metadata": {},
   "source": [
    "# COGS 108 - Project Proposal"
   ]
  },
  {
   "cell_type": "markdown",
   "metadata": {},
   "source": [
    "## Important\n",
    "\n",
    "- Make sure all group members (3-6 people) are listed in the group members section.\n",
    "- ONE, and only one, member of your group should upload this notebook to TritonED. \n",
    "- Each member of the group will receive the same grade on this assignment. \n",
    "- Keep the file name the same: submit the file 'ProjectProposal.ipynb'"
   ]
  },
  {
   "cell_type": "markdown",
   "metadata": {},
   "source": [
    "## Overview"
   ]
  },
  {
   "cell_type": "markdown",
   "metadata": {},
   "source": [
    "Read the project description and detailed instructions for this assignment in the 'ProjectOutline' document."
   ]
  },
  {
   "cell_type": "markdown",
   "metadata": {},
   "source": [
    "## Group Members: Fill in the Student IDs of each group member here\n",
    "\n",
    "Replace the lines below to list each persons full student ID. Add lines as needed for your group size, and make sure each ID is listed on a separate line. \n",
    "\n",
    "- A14184597\n",
    "- A14373131\n",
    "- A14786153\n",
    "- A14165932\n",
    "- A12784494\n",
    "- A14766011"
   ]
  },
  {
   "cell_type": "markdown",
   "metadata": {},
   "source": [
    "### Research Question\n",
    "\n",
    "What is your research question? (1-2 sentences)"
   ]
  },
  {
   "cell_type": "markdown",
   "metadata": {},
   "source": [
    "For the incoming year, what are the top three crime types and give warnings to the main victim types of each crime types for each city police department in the LA county?"
   ]
  },
  {
   "cell_type": "markdown",
   "metadata": {},
   "source": [
    "### Hypothesis\n",
    "\n",
    "What is your main hypothesis and predictions? (2-3 sentences)"
   ]
  },
  {
   "cell_type": "markdown",
   "metadata": {},
   "source": [
    "- Assault\n",
    "- Larceny\n",
    "- Vehicle break-in/theft"
   ]
  },
  {
   "cell_type": "markdown",
   "metadata": {},
   "source": [
    "### Dataset(s)\n",
    "\n",
    "What data will you use to answer your question? Describe the dataset(s) in terms of number of observations, what kind of features it contains, etc. You must use at least one dataset containing at least approximately 1000 observations (if your data are smaller but you feel they are sufficient, email Prof. Keown). You are welcome (and in fact recommended) to find multiple datasets! If you do so, describe each one, and briefly explain how you will combine them together. "
   ]
  },
  {
   "cell_type": "markdown",
   "metadata": {},
   "source": [
    "\n",
    "- Dataset Name: Crime Data from 2010 to Present\n",
    "- Link to the dataset: https://catalog.data.gov/dataset/crime-data-from-2010-to-present\n",
    "- Number of observations: 8 years\n",
    "\n",
    "This dataset reflects incidents of crime in the City of Los Angeles dating back to 2010."
   ]
  },
  {
   "cell_type": "markdown",
   "metadata": {},
   "source": [
    "### Background and Prior Work\n",
    "\n",
    "Why is this question of interest, what background information led you to your hypothesis, and why is this important?\n",
    "\n",
    "Find some relevant prior work, and reference those sources. Even if you think you have a totally novel question, find the most similar prior work that you can and discuss how it relates to your project. \n",
    "\n",
    "References can be research publications, but they need not be. Blogs, github repositories, company websites, etc., are all viable references if they are relevant to your project.\n",
    "\n",
    "(2-3 paragraphs, including at least 2 references)"
   ]
  },
  {
   "cell_type": "markdown",
   "metadata": {},
   "source": [
    "\n",
    "  Safety is always one of our biggest concerns. Crimes are what most people don’t like to happen and what police officers are trying to eliminate because we all want to live in a safe place. Therefore, we choose this research question to find the top crime types and potential victims. The result can be helpful and critical for both residents and police officers in LA. From the result, potential victims know that they should be on guard and protect themselves away from crimes, and the government can save human and money resources to strengthen protection and increase case handling efficiency.\n",
    "  According to crime map provided by the Los Angeles Police Department, among 665 recorded crimes between 02-11-2019 to 02-17-2019, the top three crime types were: larceny (174), vehicle break-in/theft (174), and assault (102). Larceny and vehicle break-in/theft together accounted for half of the total crimes recorded in that time period. We hope that we will get a similar result. However, the regions where these crimes happened are different. For instance, in Hollywood, the major crime type is vehicle break-in/theft. As in “Mapping and Analysis for Public Safety”, geography is a major influence on crime. Major crime types vary in regions. When we analysis crime data, we will take the region into consideration.\n",
    "\n",
    "References (include links):\n",
    "- 1) Crime mapping: https://www.crimemapping.com/map/ca/losangeles\n",
    "- 2) Mapping and Analysis for public safety: https://nij.gov/topics/technology/maps/pages/welcome.aspx"
   ]
  },
  {
   "cell_type": "markdown",
   "metadata": {},
   "source": [
    "### Proposed Methods\n",
    "\n",
    "What methods will you use to analyze your data?\n",
    "\n",
    "- How 'clean' is the data? To the extent that it requires cleaning, how will you do so?\n",
    "- How will you analyze the data? Be as specific as you can. Briefly mention any pre-processing steps that are required for your methods (for example, checking data distributions and performing any transformations that may be required). Include a brief outline of how you will apply your chosen method(s). \n",
    "- What do you plan to report? Briefly mention any key visualizations you plan to create, and/or the kind of results you will be able to report that address your question (this could be, for example, the outcome of some statistical test(s), prediction error on a model, a model fit parameter, etc.).\n",
    "- Include a list of packages you expect to use for you project. If you plan to use packages we have not used in class, add a very brief description about them (a few words is sufficient). "
   ]
  },
  {
   "cell_type": "markdown",
   "metadata": {},
   "source": [
    "*Data Cleaning (2-3 sentences)*\n",
    "Currently, the dataset contains lots of unuseful data and missing values. We only need the location of the crime, the crime type, the date of the crime, the information of victims. Thus, we will clean the dataset and only left those columns.\n",
    "\n",
    "*Data Analysis (1-2 paragraphs)*\n",
    "First step, we will define the questions. In order to do well in data analysis, we will define a question that is clear, concise, and measurable. Second step, we will decide how to measure our data and what to measure in our data. If we can not find what to measure in our data, this means we will have to redefine our question until we find a question that we can measurable data. Third steps, once we have our question ready, knows what to measure, and how to measure, we will collect data and organize it. We will use a pivot table to sort and filter data by different variables. This allows us to get the mean, maximum, minimum and standard deviation of our data. Since our research question is finding the top three crime types and give warnings to the main victim types of each crime for each city police department in the LA county. We will use pandas.pivot_table() to find our top three crime types from the 2010 to 2018 data. It will allow us to find the most active crime to least active crime from our data. As the result, This will help us to find the top three crime from the data we implement.  \n",
    "\n",
    "*What to report (2-3 sentences)*\n",
    "Types of crimes which have massive numbers increasing in recent years. Crimes that may be concentrated on any specific location. Also, for some specific crimes, is there a pattern that what social group is more likely to be the victims.\n",
    "\n",
    "Packages we plan to use:\n",
    "- a numpy\n",
    "- b pandas\n",
    "- c matplotlib.pyplot"
   ]
  },
  {
   "cell_type": "markdown",
   "metadata": {},
   "source": [
    "### Ethics and Privacy\n",
    "\n",
    "Briefly acknowledge and address any potential issues of ethics and privacy for the proposed project. In particular:\n",
    "- Do you have permission to use this data, for this purpose?\n",
    "- Are there privacy concerns regarding your datasets that you need to deal with, and/or terms of use that you need to comply with?\n",
    "- Are there potential biases in your dataset(s), in terms of who it composes, and how it was collected, that may be problematic in terms of it allowing for equitable analysis? (For example, does your data exclude particular populations, or is it likely to reflect particular human biases in a way that could be a problem?) \n",
    "- Are there any other issues related to your topic area, data, and/or analyses that are potentially problematic in terms of data privacy and equitable impact?\n",
    "- How will you handle any issues you identify?\n",
    "\n",
    "(1-2 paragraphs)\n",
    "\n",
    "After Lecture about the privacy of data, we had to think of finding a source that has high credibility and has the most protection. We searched all the sources on the internet but based on our topic the most credible database would be the official database from government or agencies that work for the government. Based on our dataset we do not need to have any concern about privacy because this dataset has no name, just the case numbers, and all other information about the victims are anonymous. \n",
    "\n",
    "This dataset is gathered based on the actual and true crimes in the city of Los Angeles. Therefore, it has no bias in terms of the credibility of data. This data collected from government and federal agency and they use this information for their own research. In terms of privacy, we have no issue regarding privacy. We found an official and high credible source because we do not want to face any privacy issue. However, in any research on datasets privacy concerns would eventually happen especially when you deal with the true data collected from real people and real incidents. therefore, if we face an issue like that we can use safe harbor method to fix this problem.\n"
   ]
  },
  {
   "cell_type": "markdown",
   "metadata": {},
   "source": [
    "### Discussion\n",
    "\n",
    "Discuss your project, looking forward to what your results might mean, how they fit it in with what is already known, and what problems you may encounter. \n",
    "\n",
    "In particular:\n",
    "- If your analyses and hypotheses are correct, what will be the contribution of this project to the topic domain? \n",
    "- Alternatively, what will you do if you methods don't work and/or your hypotheses are wrong? \n",
    "- What are the potential pitfalls and potential confounds of your data and/or methods that may cause problems, and/or influence your interpretations?\n",
    "\n",
    "(2-3 paragraphs)"
   ]
  },
  {
   "cell_type": "markdown",
   "metadata": {},
   "source": [
    "If our predictions and hypotheses are correct, then this will provide more protection for people's safety. The police department can take appropriate precautions based on the three most common types of crimes we predict. On the other hand, if we can predict the victim type correctly, then the victims themselves could raise awareness on how to protect themselves from crime.  \n",
    "Being able to predict future crimes accurately can have a significant impact on people's lives because people can raise awareness on how to protect themselves from crimes and the police department will put more focus on the possible crimes it could happen.\n",
    "If our hypothesis is wrong, we need to think about what external factors that cause our prediction goes wrong. On the other hand, we may need to check if our dataset can be used to predict future crime happening accurately. Also, we may do more in-depth research on the background information to see if there are some details we missed that could cause us to have a wrong prediction. \n",
    " We are predicting future crime by looking at the data from the past. Therefore, if we are not anticipating the future crime right, then it could be a significant event that could cause the people to change people's behavior. For example, the government can provide enough food so that people no longer need to assault someone and ask for money. On the other hand, if the government improves the security on the street, it could also affect our prediction on future crime trending. \n"
   ]
  }
 ],
 "metadata": {
  "kernelspec": {
   "display_name": "Python 3",
   "language": "python",
   "name": "python3"
  },
  "language_info": {
   "codemirror_mode": {
    "name": "ipython",
    "version": 3
   },
   "file_extension": ".py",
   "mimetype": "text/x-python",
   "name": "python",
   "nbconvert_exporter": "python",
   "pygments_lexer": "ipython3",
   "version": "3.7.1"
  }
 },
 "nbformat": 4,
 "nbformat_minor": 2
}
