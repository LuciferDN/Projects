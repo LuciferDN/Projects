{
 "cells": [
  {
   "cell_type": "code",
   "execution_count": 1,
   "metadata": {},
   "outputs": [],
   "source": [
    "%matplotlib inline\n",
    "\n",
    "import numpy as np\n",
    "import pandas as pd\n",
    "import matplotlib.pyplot as plt\n",
    "import scipy.stats as stats\n",
    "\n",
    "from sklearn import preprocessing\n",
    "from sklearn.metrics import accuracy_score\n",
    "from sklearn.cluster import KMeans\n",
    "from sklearn.neighbors import KNeighborsClassifier\n",
    "from sklearn.discriminant_analysis import LinearDiscriminantAnalysis\n",
    "from sklearn.model_selection import train_test_split"
   ]
  },
  {
   "cell_type": "markdown",
   "metadata": {},
   "source": [
    "Obtain data from file \"Crime_data_from_2010_to_present.csv\""
   ]
  },
  {
   "cell_type": "code",
   "execution_count": 3,
   "metadata": {},
   "outputs": [],
   "source": [
    "crime = pd.read_csv(\"Crime_data_from_2010_to_present.csv\")"
   ]
  },
  {
   "cell_type": "code",
   "execution_count": 4,
   "metadata": {
    "scrolled": true
   },
   "outputs": [
    {
     "data": {
      "text/html": [
       "<div>\n",
       "<style scoped>\n",
       "    .dataframe tbody tr th:only-of-type {\n",
       "        vertical-align: middle;\n",
       "    }\n",
       "\n",
       "    .dataframe tbody tr th {\n",
       "        vertical-align: top;\n",
       "    }\n",
       "\n",
       "    .dataframe thead th {\n",
       "        text-align: right;\n",
       "    }\n",
       "</style>\n",
       "<table border=\"1\" class=\"dataframe\">\n",
       "  <thead>\n",
       "    <tr style=\"text-align: right;\">\n",
       "      <th></th>\n",
       "      <th>DR Number</th>\n",
       "      <th>Date Reported</th>\n",
       "      <th>Date Occurred</th>\n",
       "      <th>Time Occurred</th>\n",
       "      <th>Area ID</th>\n",
       "      <th>Area Name</th>\n",
       "      <th>Reporting District</th>\n",
       "      <th>Crime Code</th>\n",
       "      <th>Crime Code Description</th>\n",
       "      <th>MO Codes</th>\n",
       "      <th>...</th>\n",
       "      <th>Weapon Description</th>\n",
       "      <th>Status Code</th>\n",
       "      <th>Status Description</th>\n",
       "      <th>Crime Code 1</th>\n",
       "      <th>Crime Code 2</th>\n",
       "      <th>Crime Code 3</th>\n",
       "      <th>Crime Code 4</th>\n",
       "      <th>Address</th>\n",
       "      <th>Cross Street</th>\n",
       "      <th>Location</th>\n",
       "    </tr>\n",
       "  </thead>\n",
       "  <tbody>\n",
       "    <tr>\n",
       "      <th>0</th>\n",
       "      <td>809</td>\n",
       "      <td>01/17/2015</td>\n",
       "      <td>01/16/2015</td>\n",
       "      <td>2130</td>\n",
       "      <td>9</td>\n",
       "      <td>Van Nuys</td>\n",
       "      <td>938</td>\n",
       "      <td>510</td>\n",
       "      <td>VEHICLE - STOLEN</td>\n",
       "      <td>NaN</td>\n",
       "      <td>...</td>\n",
       "      <td>NaN</td>\n",
       "      <td>IC</td>\n",
       "      <td>Invest Cont</td>\n",
       "      <td>510.0</td>\n",
       "      <td>NaN</td>\n",
       "      <td>NaN</td>\n",
       "      <td>NaN</td>\n",
       "      <td>6200    FULTON                       AV</td>\n",
       "      <td>NaN</td>\n",
       "      <td>(34.1814, -118.4263)</td>\n",
       "    </tr>\n",
       "    <tr>\n",
       "      <th>1</th>\n",
       "      <td>141801696</td>\n",
       "      <td>01/01/2015</td>\n",
       "      <td>01/01/2015</td>\n",
       "      <td>230</td>\n",
       "      <td>18</td>\n",
       "      <td>Southeast</td>\n",
       "      <td>1823</td>\n",
       "      <td>626</td>\n",
       "      <td>INTIMATE PARTNER - SIMPLE ASSAULT</td>\n",
       "      <td>2000 0444 0429 0416 1276</td>\n",
       "      <td>...</td>\n",
       "      <td>STRONG-ARM (HANDS, FIST, FEET OR BODILY FORCE)</td>\n",
       "      <td>IC</td>\n",
       "      <td>Invest Cont</td>\n",
       "      <td>626.0</td>\n",
       "      <td>NaN</td>\n",
       "      <td>NaN</td>\n",
       "      <td>NaN</td>\n",
       "      <td>200 E  97TH                         ST</td>\n",
       "      <td>NaN</td>\n",
       "      <td>(33.9483, -118.2717)</td>\n",
       "    </tr>\n",
       "    <tr>\n",
       "      <th>2</th>\n",
       "      <td>141816266</td>\n",
       "      <td>11/05/2015</td>\n",
       "      <td>10/01/2015</td>\n",
       "      <td>800</td>\n",
       "      <td>12</td>\n",
       "      <td>77th Street</td>\n",
       "      <td>1249</td>\n",
       "      <td>805</td>\n",
       "      <td>PIMPING</td>\n",
       "      <td>1402 0908 0913</td>\n",
       "      <td>...</td>\n",
       "      <td>NaN</td>\n",
       "      <td>AA</td>\n",
       "      <td>Adult Arrest</td>\n",
       "      <td>805.0</td>\n",
       "      <td>998.0</td>\n",
       "      <td>NaN</td>\n",
       "      <td>NaN</td>\n",
       "      <td>FIGUEROA                     ST</td>\n",
       "      <td>65TH                         ST</td>\n",
       "      <td>(33.9807, -118.2827)</td>\n",
       "    </tr>\n",
       "    <tr>\n",
       "      <th>3</th>\n",
       "      <td>150100503</td>\n",
       "      <td>01/01/2015</td>\n",
       "      <td>01/01/2015</td>\n",
       "      <td>40</td>\n",
       "      <td>1</td>\n",
       "      <td>Central</td>\n",
       "      <td>111</td>\n",
       "      <td>745</td>\n",
       "      <td>VANDALISM - MISDEAMEANOR ($399 OR UNDER)</td>\n",
       "      <td>0329 1402</td>\n",
       "      <td>...</td>\n",
       "      <td>NaN</td>\n",
       "      <td>IC</td>\n",
       "      <td>Invest Cont</td>\n",
       "      <td>745.0</td>\n",
       "      <td>998.0</td>\n",
       "      <td>NaN</td>\n",
       "      <td>NaN</td>\n",
       "      <td>HILL                         ST</td>\n",
       "      <td>CESAR E CHAVEZ</td>\n",
       "      <td>(34.0591, -118.2412)</td>\n",
       "    </tr>\n",
       "    <tr>\n",
       "      <th>4</th>\n",
       "      <td>150100506</td>\n",
       "      <td>01/01/2015</td>\n",
       "      <td>01/01/2015</td>\n",
       "      <td>240</td>\n",
       "      <td>1</td>\n",
       "      <td>Central</td>\n",
       "      <td>162</td>\n",
       "      <td>626</td>\n",
       "      <td>INTIMATE PARTNER - SIMPLE ASSAULT</td>\n",
       "      <td>2000 1243 0416 1251 0400 0444</td>\n",
       "      <td>...</td>\n",
       "      <td>STRONG-ARM (HANDS, FIST, FEET OR BODILY FORCE)</td>\n",
       "      <td>AO</td>\n",
       "      <td>Adult Other</td>\n",
       "      <td>626.0</td>\n",
       "      <td>NaN</td>\n",
       "      <td>NaN</td>\n",
       "      <td>NaN</td>\n",
       "      <td>500 W  7TH                          ST</td>\n",
       "      <td>NaN</td>\n",
       "      <td>(34.0467, -118.2556)</td>\n",
       "    </tr>\n",
       "  </tbody>\n",
       "</table>\n",
       "<p>5 rows × 26 columns</p>\n",
       "</div>"
      ],
      "text/plain": [
       "   DR Number Date Reported Date Occurred  Time Occurred  Area ID    Area Name  \\\n",
       "0        809    01/17/2015    01/16/2015           2130        9     Van Nuys   \n",
       "1  141801696    01/01/2015    01/01/2015            230       18    Southeast   \n",
       "2  141816266    11/05/2015    10/01/2015            800       12  77th Street   \n",
       "3  150100503    01/01/2015    01/01/2015             40        1      Central   \n",
       "4  150100506    01/01/2015    01/01/2015            240        1      Central   \n",
       "\n",
       "   Reporting District  Crime Code                    Crime Code Description  \\\n",
       "0                 938         510                          VEHICLE - STOLEN   \n",
       "1                1823         626         INTIMATE PARTNER - SIMPLE ASSAULT   \n",
       "2                1249         805                                   PIMPING   \n",
       "3                 111         745  VANDALISM - MISDEAMEANOR ($399 OR UNDER)   \n",
       "4                 162         626         INTIMATE PARTNER - SIMPLE ASSAULT   \n",
       "\n",
       "                        MO Codes          ...           \\\n",
       "0                            NaN          ...            \n",
       "1       2000 0444 0429 0416 1276          ...            \n",
       "2                 1402 0908 0913          ...            \n",
       "3                      0329 1402          ...            \n",
       "4  2000 1243 0416 1251 0400 0444          ...            \n",
       "\n",
       "                               Weapon Description Status Code  \\\n",
       "0                                             NaN          IC   \n",
       "1  STRONG-ARM (HANDS, FIST, FEET OR BODILY FORCE)          IC   \n",
       "2                                             NaN          AA   \n",
       "3                                             NaN          IC   \n",
       "4  STRONG-ARM (HANDS, FIST, FEET OR BODILY FORCE)          AO   \n",
       "\n",
       "  Status Description  Crime Code 1 Crime Code 2  Crime Code 3 Crime Code 4  \\\n",
       "0        Invest Cont         510.0          NaN           NaN          NaN   \n",
       "1        Invest Cont         626.0          NaN           NaN          NaN   \n",
       "2       Adult Arrest         805.0        998.0           NaN          NaN   \n",
       "3        Invest Cont         745.0        998.0           NaN          NaN   \n",
       "4        Adult Other         626.0          NaN           NaN          NaN   \n",
       "\n",
       "                                   Address                     Cross Street  \\\n",
       "0  6200    FULTON                       AV                              NaN   \n",
       "1   200 E  97TH                         ST                              NaN   \n",
       "2          FIGUEROA                     ST  65TH                         ST   \n",
       "3          HILL                         ST                   CESAR E CHAVEZ   \n",
       "4   500 W  7TH                          ST                              NaN   \n",
       "\n",
       "              Location   \n",
       "0  (34.1814, -118.4263)  \n",
       "1  (33.9483, -118.2717)  \n",
       "2  (33.9807, -118.2827)  \n",
       "3  (34.0591, -118.2412)  \n",
       "4  (34.0467, -118.2556)  \n",
       "\n",
       "[5 rows x 26 columns]"
      ]
     },
     "execution_count": 4,
     "metadata": {},
     "output_type": "execute_result"
    }
   ],
   "source": [
    "crime.head(5)"
   ]
  },
  {
   "cell_type": "markdown",
   "metadata": {},
   "source": [
    "Drop out the columns that we do not need for our analysis"
   ]
  },
  {
   "cell_type": "code",
   "execution_count": 5,
   "metadata": {},
   "outputs": [],
   "source": [
    "\n",
    "crime = crime.drop(columns = ['DR Number', 'Date Reported', 'Area ID', 'Reporting District', 'Crime Code', 'Premise Code', 'Premise Description', 'Weapon Used Code', 'MO Codes', 'Weapon Description', 'Status Code', 'Status Description', 'Crime Code 1', 'Crime Code 2', 'Crime Code 3', 'Crime Code 4', 'Cross Street', 'Address', 'Location '])\n",
    "# shape = (1910587, 7)"
   ]
  },
  {
   "cell_type": "markdown",
   "metadata": {},
   "source": [
    "Move target column to the front"
   ]
  },
  {
   "cell_type": "code",
   "execution_count": 6,
   "metadata": {},
   "outputs": [],
   "source": [
    "\n",
    "crime = crime.reindex(['Crime Code Description', 'Date Occurred', 'Time Occurred', 'Area Name', 'Victim Age', 'Victim Sex', 'Victim Descent'], axis = 'columns')"
   ]
  },
  {
   "cell_type": "markdown",
   "metadata": {},
   "source": [
    "add years to string "
   ]
  },
  {
   "cell_type": "code",
   "execution_count": 9,
   "metadata": {},
   "outputs": [],
   "source": [
    "\n",
    "def combine_year(string):\n",
    "    if '2010' in string:\n",
    "        string = '2010'\n",
    "    elif '2011' in string:\n",
    "        string = '2011'\n",
    "    elif '2012' in string:\n",
    "        string = '2012'\n",
    "    elif '2013' in string:\n",
    "        string = '2013'\n",
    "    elif '2014' in string:\n",
    "        string = '2014'\n",
    "    elif '2015' in string:\n",
    "        string = '2015'\n",
    "    elif '2016' in string:\n",
    "        string = '2016'\n",
    "    elif '2017' in string:\n",
    "        string = '2017'\n",
    "    elif '2018' in string:\n",
    "        string = '2018'\n",
    "    elif '2019' in string:\n",
    "        string = '2019'\n",
    "    return string"
   ]
  },
  {
   "cell_type": "markdown",
   "metadata": {},
   "source": [
    "apply the function we created above to Date Occurred"
   ]
  },
  {
   "cell_type": "code",
   "execution_count": 3,
   "metadata": {},
   "outputs": [
    {
     "ename": "NameError",
     "evalue": "name 'crime' is not defined",
     "output_type": "error",
     "traceback": [
      "\u001b[0;31m---------------------------------------------------------------------------\u001b[0m",
      "\u001b[0;31mNameError\u001b[0m                                 Traceback (most recent call last)",
      "\u001b[0;32m<ipython-input-3-b72a49b46159>\u001b[0m in \u001b[0;36m<module>\u001b[0;34m\u001b[0m\n\u001b[0;32m----> 1\u001b[0;31m \u001b[0mcrime\u001b[0m\u001b[0;34m[\u001b[0m\u001b[0;34m'Date Occurred'\u001b[0m\u001b[0;34m]\u001b[0m \u001b[0;34m=\u001b[0m \u001b[0mcrime\u001b[0m\u001b[0;34m[\u001b[0m\u001b[0;34m'Date Occurred'\u001b[0m\u001b[0;34m]\u001b[0m\u001b[0;34m.\u001b[0m\u001b[0mapply\u001b[0m\u001b[0;34m(\u001b[0m\u001b[0mcombine_year\u001b[0m\u001b[0;34m)\u001b[0m\u001b[0;34m\u001b[0m\u001b[0;34m\u001b[0m\u001b[0m\n\u001b[0m",
      "\u001b[0;31mNameError\u001b[0m: name 'crime' is not defined"
     ]
    }
   ],
   "source": [
    "crime['Date Occurred'] = crime['Date Occurred'].apply(combine_year)"
   ]
  },
  {
   "cell_type": "markdown",
   "metadata": {},
   "source": [
    "extract each individual type out of each category "
   ]
  },
  {
   "cell_type": "code",
   "execution_count": 11,
   "metadata": {},
   "outputs": [
    {
     "name": "stdout",
     "output_type": "stream",
     "text": [
      "Crimes types:\n",
      " ['VEHICLE - STOLEN' 'INTIMATE PARTNER - SIMPLE ASSAULT' 'PIMPING'\n",
      " 'VANDALISM - MISDEAMEANOR ($399 OR UNDER)'\n",
      " 'INTIMATE PARTNER - AGGRAVATED ASSAULT'\n",
      " 'VANDALISM - FELONY ($400 & OVER, ALL CHURCH VANDALISMS)'\n",
      " 'THEFT-GRAND ($950.01 & OVER)EXCPT,GUNS,FOWL,LIVESTK,PROD'\n",
      " 'SHOPLIFTING - PETTY THEFT ($950 & UNDER)' 'BATTERY WITH SEXUAL CONTACT'\n",
      " 'RAPE, FORCIBLE' 'ORAL COPULATION'\n",
      " 'ASSAULT WITH DEADLY WEAPON, AGGRAVATED ASSAULT' 'ROBBERY'\n",
      " 'BATTERY - SIMPLE ASSAULT' 'KIDNAPPING' 'CHILD NEGLECT (SEE 300 W.I.C.)'\n",
      " 'CRIMINAL THREATS - NO WEAPON DISPLAYED' 'BRANDISH WEAPON'\n",
      " 'PURSE SNATCHING' 'BURGLARY' 'BURGLARY FROM VEHICLE, ATTEMPTED'\n",
      " 'OTHER ASSAULT' 'SODOMY/SEXUAL CONTACT B/W PENIS OF ONE PERS TO ANUS OTH'\n",
      " 'BURGLARY FROM VEHICLE' 'BURGLARY, ATTEMPTED' 'TRESPASSING'\n",
      " 'ASSAULT WITH DEADLY WEAPON ON POLICE OFFICER' 'CONSPIRACY'\n",
      " 'BATTERY POLICE (SIMPLE)' 'INDECENT EXPOSURE' 'OTHER MISCELLANEOUS CRIME'\n",
      " 'BIKE - STOLEN' 'SHOPLIFTING-GRAND THEFT ($950.01 & OVER)'\n",
      " 'THEFT PLAIN - PETTY ($950 & UNDER)'\n",
      " 'THEFT FROM MOTOR VEHICLE - PETTY ($950 & UNDER)'\n",
      " 'CHILD ABUSE (PHYSICAL) - SIMPLE ASSAULT' 'BOMB SCARE'\n",
      " 'ATTEMPTED ROBBERY' 'COUNTERFEIT'\n",
      " 'EMBEZZLEMENT, GRAND THEFT ($950.01 & OVER)' 'STALKING' 'ARSON'\n",
      " 'THEFT, PERSON' 'THEFT FROM MOTOR VEHICLE - ATTEMPT'\n",
      " 'DISTURBING THE PEACE' 'PICKPOCKET' 'CHILD ANNOYING (17YRS & UNDER)'\n",
      " 'CHILD ABUSE (PHYSICAL) - AGGRAVATED ASSAULT' 'ILLEGAL DUMPING'\n",
      " 'DEFRAUDING INNKEEPER/THEFT OF SERVICES, $400 & UNDER'\n",
      " 'SHOTS FIRED AT MOVING VEHICLE, TRAIN OR AIRCRAFT' 'RESISTING ARREST'\n",
      " 'DISCHARGE FIREARMS/SHOTS FIRED' 'THEFT OF IDENTITY' 'LEWD CONDUCT'\n",
      " 'THEFT FROM MOTOR VEHICLE - GRAND ($400 AND OVER)' 'CRUELTY TO ANIMALS'\n",
      " 'BUNCO, PETTY THEFT' 'CRIMINAL HOMICIDE'\n",
      " 'DOCUMENT FORGERY / STOLEN FELONY' 'VIOLATION OF RESTRAINING ORDER'\n",
      " 'BUNCO, GRAND THEFT' 'LETTERS, LEWD  -  TELEPHONE CALLS, LEWD'\n",
      " 'DRIVING WITHOUT OWNER CONSENT (DWOC)' 'VIOLATION OF COURT ORDER'\n",
      " 'THROWING OBJECT AT MOVING VEHICLE' 'CONTEMPT OF COURT'\n",
      " 'DEFRAUDING INNKEEPER/THEFT OF SERVICES, OVER $400' 'FALSE IMPRISONMENT'\n",
      " 'CHILD STEALING' 'BUNCO, ATTEMPT' 'PEEPING TOM'\n",
      " 'SEX,UNLAWFUL(INC MUTUAL CONSENT, PENETRATION W/ FRGN OBJ'\n",
      " 'SHOTS FIRED AT INHABITED DWELLING'\n",
      " 'THEFT, COIN MACHINE - PETTY ($950 & UNDER)' 'RAPE, ATTEMPTED'\n",
      " 'THEFT PLAIN - ATTEMPT' 'CREDIT CARDS, FRAUD USE ($950 & UNDER'\n",
      " 'RECKLESS DRIVING' 'VEHICLE - ATTEMPT STOLEN'\n",
      " 'THEFT FROM PERSON - ATTEMPT' 'EMBEZZLEMENT, PETTY THEFT ($950 & UNDER)'\n",
      " 'DRUNK ROLL' 'EXTORTION'\n",
      " 'CRM AGNST CHLD (13 OR UNDER) (14-15 & SUSP 10 YRS OLDER)'\n",
      " 'UNAUTHORIZED COMPUTER ACCESS' 'SHOPLIFTING - ATTEMPT'\n",
      " 'SEXUAL PENETRATION W/FOREIGN OBJECT' 'PURSE SNATCHING - ATTEMPT'\n",
      " 'VIOLATION OF TEMPORARY RESTRAINING ORDER' 'BATTERY ON A FIREFIGHTER'\n",
      " 'THREATENING PHONE CALLS/LETTERS' 'WEAPONS POSSESSION/BOMBING'\n",
      " 'BIKE - ATTEMPTED STOLEN' 'FALSE POLICE REPORT'\n",
      " 'CREDIT CARDS, FRAUD USE ($950.01 & OVER)' 'KIDNAPPING - GRAND ATTEMPT'\n",
      " 'TELEPHONE PROPERTY - DAMAGE' 'PICKPOCKET, ATTEMPT' 'FAILURE TO DISPERSE'\n",
      " 'DISHONEST EMPLOYEE - PETTY THEFT' 'DOCUMENT WORTHLESS ($200 & UNDER)'\n",
      " 'DRUGS, TO A MINOR' 'FAILURE TO YIELD' 'PROWLER'\n",
      " 'DOCUMENT WORTHLESS ($200.01 & OVER)' 'CHILD ABANDONMENT'\n",
      " 'DISHONEST EMPLOYEE - GRAND THEFT'\n",
      " 'TILL TAP - GRAND THEFT ($950.01 & OVER)'\n",
      " 'BEASTIALITY, CRIME AGAINST NATURE SEXUAL ASSLT WITH ANIM'\n",
      " 'DISRUPT SCHOOL' 'BOAT - STOLEN' 'PETTY THEFT - AUTO REPAIR'\n",
      " 'TILL TAP - PETTY ($950 & UNDER)' 'DISHONEST EMPLOYEE ATTEMPTED THEFT'\n",
      " 'INCEST (SEXUAL ACTS BETWEEN BLOOD RELATIVES)' 'CONTRIBUTING' 'PANDERING'\n",
      " 'LEWD/LASCIVIOUS ACTS WITH CHILD' 'BIGAMY'\n",
      " 'REPLICA FIREARMS(SALE,DISPLAY,MANUFACTURE OR DISTRIBUTE)'\n",
      " 'THEFT, COIN MACHINE - GRAND ($950.01 & OVER)' 'BRIBERY'\n",
      " 'GRAND THEFT / INSURANCE FRAUD' 'HUMAN TRAFFICKING - COMMERCIAL SEX ACTS'\n",
      " 'INCITING A RIOT' 'LYNCHING' 'CHILD PORNOGRAPHY' 'LYNCHING - ATTEMPTED'\n",
      " 'MANSLAUGHTER, NEGLIGENT' 'GRAND THEFT / AUTO REPAIR'\n",
      " 'THEFT, COIN MACHINE - ATTEMPT'\n",
      " 'HUMAN TRAFFICKING - INVOLUNTARY SERVITUDE'\n",
      " 'BLOCKING DOOR INDUCTION CENTER' 'TRAIN WRECKING' 'ABORTION/ILLEGAL'\n",
      " 'TILL TAP - ATTEMPT' 'FIREARMS RESTRAINING ORDER (FIREARMS RO)'\n",
      " 'DRUNK ROLL - ATTEMPT'] \n",
      "Date Occurred:\n",
      " ['2015' '2010' '2013' '2014' '2016' '2017' '2018' '2019' '2012' '2011'] \n",
      "Areas:\n",
      " ['Van Nuys' 'Southeast' '77th Street' 'Central' 'Northeast' 'Newton'\n",
      " 'Pacific' 'N Hollywood' 'Devonshire' 'West Valley' 'Foothill' 'Mission'\n",
      " 'Olympic' 'Topanga' 'Rampart' 'Southwest' 'Hollenbeck' 'Harbor'\n",
      " 'Hollywood' 'Wilshire' 'West LA'] \n",
      "Genders:\n",
      " [nan 'F' 'M' 'X' 'H' '-' 'N'] \n",
      "Descents:\n",
      " [nan 'B' 'H' 'W' 'X' 'A' 'O' 'K' 'C' 'I' 'F' 'J' 'P' 'G' 'Z' 'V' 'S' 'U'\n",
      " 'L' 'D' '-']\n"
     ]
    }
   ],
   "source": [
    "\n",
    "types = crime['Crime Code Description'].unique()\n",
    "dates = crime['Date Occurred'].unique()\n",
    "areas = crime['Area Name'].unique()\n",
    "ages = crime['Victim Age'].unique()\n",
    "genders = crime['Victim Sex'].unique()\n",
    "descents = crime['Victim Descent'].unique()\n",
    "print('Crimes types:\\n', types, '\\nDate Occurred:\\n', dates,'\\nAreas:\\n', areas, '\\nGenders:\\n', genders, '\\nDescents:\\n', descents)"
   ]
  },
  {
   "cell_type": "markdown",
   "metadata": {},
   "source": [
    "drop out the missing and unnessary information"
   ]
  },
  {
   "cell_type": "code",
   "execution_count": 12,
   "metadata": {},
   "outputs": [],
   "source": [
    "\n",
    "crime.dropna(inplace = True)\n",
    "crime.drop(crime[(crime['Victim Sex'] == 'X') | (crime['Victim Sex'] == 'H') | (crime['Victim Sex'] == '-') | (crime['Victim Sex'] == 'N')].index, inplace = True)\n",
    "crime.drop(crime[(crime['Victim Descent'] == '-')].index, inplace = True)\n",
    "# shape = (1340175, 7)"
   ]
  },
  {
   "cell_type": "code",
   "execution_count": 13,
   "metadata": {},
   "outputs": [
    {
     "name": "stdout",
     "output_type": "stream",
     "text": [
      "Crime Code Description    INTIMATE PARTNER - SIMPLE ASSAULT\n",
      "Date Occurred                                          2015\n",
      "Time Occurred                                           230\n",
      "Area Name                                         Southeast\n",
      "Victim Age                                               40\n",
      "Victim Sex                                                F\n",
      "Victim Descent                                            B\n",
      "Name: 1, dtype: object\n"
     ]
    }
   ],
   "source": [
    "print(crime.iloc[0])"
   ]
  },
  {
   "cell_type": "markdown",
   "metadata": {},
   "source": [
    "convert each string into a unique integer by using the sklearn library"
   ]
  },
  {
   "cell_type": "code",
   "execution_count": 14,
   "metadata": {},
   "outputs": [
    {
     "name": "stdout",
     "output_type": "stream",
     "text": [
      "   Crime Code Description Date Occurred  Time Occurred  Area Name  Victim Age  \\\n",
      "1                      73          2015            230         14        40.0   \n",
      "2                      90          2015            800          0        24.0   \n",
      "3                     130          2015             40          1         0.0   \n",
      "4                      73          2015            240          1        28.0   \n",
      "5                      72          2015           1100          1        53.0   \n",
      "\n",
      "   Victim Sex  Victim Descent  \n",
      "1           0               1  \n",
      "2           0               1  \n",
      "3           1               6  \n",
      "4           0              16  \n",
      "5           0               1  \n"
     ]
    }
   ],
   "source": [
    "\n",
    "le = preprocessing.LabelEncoder()\n",
    "crime['Victim Sex'] = le.fit_transform(crime['Victim Sex'])\n",
    "crime['Area Name'] = le.fit_transform(crime['Area Name'])\n",
    "crime.iloc[:,0] = le.fit_transform(crime.iloc[:,0])\n",
    "crime.iloc[:,-1] = le.fit_transform(crime.iloc[:,-1])\n",
    "print(crime.head(5))"
   ]
  },
  {
   "cell_type": "markdown",
   "metadata": {},
   "source": [
    "Filter the date that only include the years from 2015-2017 and convert the column to arrays.\n",
    "Store the second row to last row of the table into X and store the first column to Y"
   ]
  },
  {
   "cell_type": "code",
   "execution_count": 15,
   "metadata": {},
   "outputs": [],
   "source": [
    "# Training set\n",
    "crime_before_2018 = crime.loc[(crime['Date Occurred'] >= '2015') & (crime['Date Occurred'] < '2018')]  # shape = ((429720, 7))\n",
    "\n",
    "# print(crime_before_2018.shape)\n",
    "crime_X = np.array(crime_before_2018.iloc[:,1:].copy())  # shape = (429720, 6)\n",
    "crime_y = np.array(crime_before_2018.iloc[:,0].copy())  # shape = (429720,)"
   ]
  },
  {
   "cell_type": "markdown",
   "metadata": {},
   "source": [
    "Extract the data for 2018 and convert them to arrary. and second row to last row of the table into X, and store the first row to crime_2018_x"
   ]
  },
  {
   "cell_type": "code",
   "execution_count": 16,
   "metadata": {},
   "outputs": [],
   "source": [
    "# Testing set\n",
    "\n",
    "crime_2018 = crime.loc[crime['Date Occurred'] == '2018']  # shape = (3461, 7)\n",
    "\n",
    "# print(crime_2018.shape)\n",
    "crime_2018_X = np.array(crime_2018.iloc[:,1:].copy())  # shape = (3461, 6)\n",
    "crime_2018_y = np.array(crime_2018.iloc[:,0].copy())  # shape = (3461,)"
   ]
  },
  {
   "cell_type": "markdown",
   "metadata": {},
   "source": [
    "split arrays to train and test subsets"
   ]
  },
  {
   "cell_type": "code",
   "execution_count": 17,
   "metadata": {},
   "outputs": [],
   "source": [
    "X_train, X_test, y_train, y_test = train_test_split(crime_X, crime_y, test_size=0.2, random_state=42)\n",
    "crime_types = len(types)"
   ]
  },
  {
   "cell_type": "markdown",
   "metadata": {},
   "source": [
    "Apply the KNeighborsClassifier to store the nearest neighbors to KNN_clf\n",
    "Fit the model using X as training data and y as target values"
   ]
  },
  {
   "cell_type": "code",
   "execution_count": null,
   "metadata": {},
   "outputs": [],
   "source": [
    "#KNN\n",
    "\n",
    "KNN_clf = KNeighborsClassifier(n_neighbors = crime_types)\n",
    "KNN_clf.fit(X_train, y_train)"
   ]
  },
  {
   "cell_type": "markdown",
   "metadata": {},
   "source": [
    "Calculate the prediction and accuracy "
   ]
  },
  {
   "cell_type": "code",
   "execution_count": 17,
   "metadata": {},
   "outputs": [
    {
     "name": "stdout",
     "output_type": "stream",
     "text": [
      "Train Accuracy = 19.14\n",
      "Test Accuracy = 17.55\n",
      "Prediction Accurary for 2018 = 15.02\n"
     ]
    }
   ],
   "source": [
    "train_pred_knn = KNN_clf.predict(X_train)\n",
    "test_pred_knn = KNN_clf.predict(X_test)\n",
    "knn_pred_2018 = KNN_clf.predict(crime_2018_X)\n",
    "\n",
    "knn_train_acc = accuracy_score(y_train, train_pred_knn) * 100\n",
    "knn_test_acc = accuracy_score(y_test, test_pred_knn) * 100\n",
    "\n",
    "knn_acc = (knn_pred_2018 == crime_2018_y).sum() / crime_2018_y.shape[0] * 100\n",
    "\n",
    "print('Train Accuracy = %.2f' %knn_train_acc)\n",
    "print('Test Accuracy = %.2f' %knn_test_acc)\n",
    "\n",
    "print('Prediction Accurary for 2018 = %.2f' %knn_acc)"
   ]
  },
  {
   "cell_type": "markdown",
   "metadata": {},
   "source": [
    "Use the K-means algorithm and Fit the model using X as training data and y as target values"
   ]
  },
  {
   "cell_type": "code",
   "execution_count": null,
   "metadata": {},
   "outputs": [],
   "source": [
    "#K-Means\n",
    "\n",
    "kmeans_clf = KMeans(n_clusters = crime_types, random_state=0)\n",
    "kmeans_clf.fit(X_train, y_train)"
   ]
  },
  {
   "cell_type": "markdown",
   "metadata": {},
   "source": [
    "Calculate the prediction and accuracy "
   ]
  },
  {
   "cell_type": "code",
   "execution_count": null,
   "metadata": {},
   "outputs": [],
   "source": [
    "train_pred_km = kmeans_clf.predict(X_train)\n",
    "test_pred_km = kmeans_clf.predict(X_test)\n",
    "km_pred_2018 = Km_clf.predict(crime_2018_X)\n",
    "\n",
    "km_train_acc = accuracy_score(y_train, train_pred_km) * 100\n",
    "km_test_acc = accuracy_score(y_test, test_pred_km) * 100\n",
    "\n",
    "km_acc = (km_pred_2018 == crime_2018_y).sum() / crime_2018_y.shape[0] * 100\n",
    "\n",
    "print('Train Accuracy = %.2f' %km_train_acc)\n",
    "print('Test Accuracy = %.2f' %km_test_acc)\n",
    "\n",
    "print('Prediction Accurary for 2018 = %.2f' %km_acc)"
   ]
  },
  {
   "cell_type": "markdown",
   "metadata": {},
   "source": [
    "Use Linear Discriminant method to analyze our data\n",
    "Fit the model using X as training data and y as target values"
   ]
  },
  {
   "cell_type": "code",
   "execution_count": 18,
   "metadata": {},
   "outputs": [
    {
     "name": "stderr",
     "output_type": "stream",
     "text": [
      "C:\\Users\\iknne\\Anaconda3\\Anaconda3\\lib\\site-packages\\sklearn\\discriminant_analysis.py:442: UserWarning: The priors do not sum to 1. Renormalizing\n",
      "  UserWarning)\n"
     ]
    },
    {
     "data": {
      "text/plain": [
       "LinearDiscriminantAnalysis(n_components=None, priors=None, shrinkage=None,\n",
       "              solver='svd', store_covariance=False, tol=0.0001)"
      ]
     },
     "execution_count": 18,
     "metadata": {},
     "output_type": "execute_result"
    }
   ],
   "source": [
    "lda_clf = LinearDiscriminantAnalysis()\n",
    "lda_clf.fit(X_train, y_train)"
   ]
  },
  {
   "cell_type": "markdown",
   "metadata": {},
   "source": [
    "Calculate the prediction and accuracy "
   ]
  },
  {
   "cell_type": "code",
   "execution_count": 19,
   "metadata": {},
   "outputs": [
    {
     "name": "stdout",
     "output_type": "stream",
     "text": [
      "Train Accuracy = 13.36\n",
      "Test Accuracy = 13.36\n",
      "Prediction Accurary for 2018 = 10.52\n"
     ]
    }
   ],
   "source": [
    "train_pred_lda = lda_clf.predict(X_train)\n",
    "test_pred_lda = lda_clf.predict(X_test)\n",
    "lda_pred_2018 = lda_clf.predict(crime_2018_X)\n",
    "\n",
    "lda_train_acc = accuracy_score(y_train, train_pred_lda) * 100\n",
    "lda_test_acc = accuracy_score(y_test, test_pred_lda) * 100\n",
    "\n",
    "lda_acc = (lda_pred_2018 == crime_2018_y).sum() / crime_2018_y.shape[0] * 100\n",
    "\n",
    "print('Train Accuracy = %.2f' %lda_train_acc)\n",
    "print('Test Accuracy = %.2f' %lda_test_acc)\n",
    "\n",
    "print('Prediction Accurary for 2018 = %.2f' %lda_acc)"
   ]
  }
 ],
 "metadata": {
  "kernelspec": {
   "display_name": "Python 3",
   "language": "python",
   "name": "python3"
  },
  "language_info": {
   "codemirror_mode": {
    "name": "ipython",
    "version": 3
   },
   "file_extension": ".py",
   "mimetype": "text/x-python",
   "name": "python",
   "nbconvert_exporter": "python",
   "pygments_lexer": "ipython3",
   "version": "3.7.1"
  }
 },
 "nbformat": 4,
 "nbformat_minor": 2
}
