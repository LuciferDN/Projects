{
 "cells": [
  {
   "cell_type": "code",
   "execution_count": 16,
   "metadata": {},
   "outputs": [],
   "source": [
    "%matplotlib inline\n",
    "\n",
    "import numpy as np\n",
    "import pandas as pd\n",
    "import matplotlib.pyplot as plt\n",
    "import scipy.stats as stats\n",
    "\n",
    "from sklearn import preprocessing\n",
    "from sklearn.metrics import accuracy_score\n",
    "from sklearn.cluster import KMeans\n",
    "from sklearn.neighbors import KNeighborsClassifier\n",
    "from sklearn.discriminant_analysis import LinearDiscriminantAnalysis\n",
    "from sklearn.model_selection import train_test_split"
   ]
  },
  {
   "cell_type": "markdown",
   "metadata": {},
   "source": [
    "Obtain data from file \"Crime_data_from_2010_to_present.csv\""
   ]
  },
  {
   "cell_type": "code",
   "execution_count": 17,
   "metadata": {},
   "outputs": [],
   "source": [
    "crime = pd.read_csv(\"Crime_data_from_2010_to_present.csv\")\n",
    "# crime.columns.values"
   ]
  },
  {
   "cell_type": "code",
   "execution_count": 18,
   "metadata": {
    "scrolled": true
   },
   "outputs": [
    {
     "data": {
      "text/html": [
       "<div>\n",
       "<style scoped>\n",
       "    .dataframe tbody tr th:only-of-type {\n",
       "        vertical-align: middle;\n",
       "    }\n",
       "\n",
       "    .dataframe tbody tr th {\n",
       "        vertical-align: top;\n",
       "    }\n",
       "\n",
       "    .dataframe thead th {\n",
       "        text-align: right;\n",
       "    }\n",
       "</style>\n",
       "<table border=\"1\" class=\"dataframe\">\n",
       "  <thead>\n",
       "    <tr style=\"text-align: right;\">\n",
       "      <th></th>\n",
       "      <th>DR Number</th>\n",
       "      <th>Date Reported</th>\n",
       "      <th>Date Occurred</th>\n",
       "      <th>Time Occurred</th>\n",
       "      <th>Area ID</th>\n",
       "      <th>Area Name</th>\n",
       "      <th>Reporting District</th>\n",
       "      <th>Crime Code</th>\n",
       "      <th>Crime Code Description</th>\n",
       "      <th>MO Codes</th>\n",
       "      <th>...</th>\n",
       "      <th>Weapon Description</th>\n",
       "      <th>Status Code</th>\n",
       "      <th>Status Description</th>\n",
       "      <th>Crime Code 1</th>\n",
       "      <th>Crime Code 2</th>\n",
       "      <th>Crime Code 3</th>\n",
       "      <th>Crime Code 4</th>\n",
       "      <th>Address</th>\n",
       "      <th>Cross Street</th>\n",
       "      <th>Location</th>\n",
       "    </tr>\n",
       "  </thead>\n",
       "  <tbody>\n",
       "    <tr>\n",
       "      <th>0</th>\n",
       "      <td>809</td>\n",
       "      <td>01/17/2015</td>\n",
       "      <td>01/16/2015</td>\n",
       "      <td>2130</td>\n",
       "      <td>9</td>\n",
       "      <td>Van Nuys</td>\n",
       "      <td>938</td>\n",
       "      <td>510</td>\n",
       "      <td>VEHICLE - STOLEN</td>\n",
       "      <td>NaN</td>\n",
       "      <td>...</td>\n",
       "      <td>NaN</td>\n",
       "      <td>IC</td>\n",
       "      <td>Invest Cont</td>\n",
       "      <td>510.0</td>\n",
       "      <td>NaN</td>\n",
       "      <td>NaN</td>\n",
       "      <td>NaN</td>\n",
       "      <td>6200    FULTON                       AV</td>\n",
       "      <td>NaN</td>\n",
       "      <td>(34.1814, -118.4263)</td>\n",
       "    </tr>\n",
       "    <tr>\n",
       "      <th>1</th>\n",
       "      <td>141801696</td>\n",
       "      <td>01/01/2015</td>\n",
       "      <td>01/01/2015</td>\n",
       "      <td>230</td>\n",
       "      <td>18</td>\n",
       "      <td>Southeast</td>\n",
       "      <td>1823</td>\n",
       "      <td>626</td>\n",
       "      <td>INTIMATE PARTNER - SIMPLE ASSAULT</td>\n",
       "      <td>2000 0444 0429 0416 1276</td>\n",
       "      <td>...</td>\n",
       "      <td>STRONG-ARM (HANDS, FIST, FEET OR BODILY FORCE)</td>\n",
       "      <td>IC</td>\n",
       "      <td>Invest Cont</td>\n",
       "      <td>626.0</td>\n",
       "      <td>NaN</td>\n",
       "      <td>NaN</td>\n",
       "      <td>NaN</td>\n",
       "      <td>200 E  97TH                         ST</td>\n",
       "      <td>NaN</td>\n",
       "      <td>(33.9483, -118.2717)</td>\n",
       "    </tr>\n",
       "    <tr>\n",
       "      <th>2</th>\n",
       "      <td>141816266</td>\n",
       "      <td>11/05/2015</td>\n",
       "      <td>10/01/2015</td>\n",
       "      <td>800</td>\n",
       "      <td>12</td>\n",
       "      <td>77th Street</td>\n",
       "      <td>1249</td>\n",
       "      <td>805</td>\n",
       "      <td>PIMPING</td>\n",
       "      <td>1402 0908 0913</td>\n",
       "      <td>...</td>\n",
       "      <td>NaN</td>\n",
       "      <td>AA</td>\n",
       "      <td>Adult Arrest</td>\n",
       "      <td>805.0</td>\n",
       "      <td>998.0</td>\n",
       "      <td>NaN</td>\n",
       "      <td>NaN</td>\n",
       "      <td>FIGUEROA                     ST</td>\n",
       "      <td>65TH                         ST</td>\n",
       "      <td>(33.9807, -118.2827)</td>\n",
       "    </tr>\n",
       "    <tr>\n",
       "      <th>3</th>\n",
       "      <td>150100503</td>\n",
       "      <td>01/01/2015</td>\n",
       "      <td>01/01/2015</td>\n",
       "      <td>40</td>\n",
       "      <td>1</td>\n",
       "      <td>Central</td>\n",
       "      <td>111</td>\n",
       "      <td>745</td>\n",
       "      <td>VANDALISM - MISDEAMEANOR ($399 OR UNDER)</td>\n",
       "      <td>0329 1402</td>\n",
       "      <td>...</td>\n",
       "      <td>NaN</td>\n",
       "      <td>IC</td>\n",
       "      <td>Invest Cont</td>\n",
       "      <td>745.0</td>\n",
       "      <td>998.0</td>\n",
       "      <td>NaN</td>\n",
       "      <td>NaN</td>\n",
       "      <td>HILL                         ST</td>\n",
       "      <td>CESAR E CHAVEZ</td>\n",
       "      <td>(34.0591, -118.2412)</td>\n",
       "    </tr>\n",
       "    <tr>\n",
       "      <th>4</th>\n",
       "      <td>150100506</td>\n",
       "      <td>01/01/2015</td>\n",
       "      <td>01/01/2015</td>\n",
       "      <td>240</td>\n",
       "      <td>1</td>\n",
       "      <td>Central</td>\n",
       "      <td>162</td>\n",
       "      <td>626</td>\n",
       "      <td>INTIMATE PARTNER - SIMPLE ASSAULT</td>\n",
       "      <td>2000 1243 0416 1251 0400 0444</td>\n",
       "      <td>...</td>\n",
       "      <td>STRONG-ARM (HANDS, FIST, FEET OR BODILY FORCE)</td>\n",
       "      <td>AO</td>\n",
       "      <td>Adult Other</td>\n",
       "      <td>626.0</td>\n",
       "      <td>NaN</td>\n",
       "      <td>NaN</td>\n",
       "      <td>NaN</td>\n",
       "      <td>500 W  7TH                          ST</td>\n",
       "      <td>NaN</td>\n",
       "      <td>(34.0467, -118.2556)</td>\n",
       "    </tr>\n",
       "  </tbody>\n",
       "</table>\n",
       "<p>5 rows × 26 columns</p>\n",
       "</div>"
      ],
      "text/plain": [
       "   DR Number Date Reported Date Occurred  Time Occurred  Area ID    Area Name  \\\n",
       "0        809    01/17/2015    01/16/2015           2130        9     Van Nuys   \n",
       "1  141801696    01/01/2015    01/01/2015            230       18    Southeast   \n",
       "2  141816266    11/05/2015    10/01/2015            800       12  77th Street   \n",
       "3  150100503    01/01/2015    01/01/2015             40        1      Central   \n",
       "4  150100506    01/01/2015    01/01/2015            240        1      Central   \n",
       "\n",
       "   Reporting District  Crime Code                    Crime Code Description  \\\n",
       "0                 938         510                          VEHICLE - STOLEN   \n",
       "1                1823         626         INTIMATE PARTNER - SIMPLE ASSAULT   \n",
       "2                1249         805                                   PIMPING   \n",
       "3                 111         745  VANDALISM - MISDEAMEANOR ($399 OR UNDER)   \n",
       "4                 162         626         INTIMATE PARTNER - SIMPLE ASSAULT   \n",
       "\n",
       "                        MO Codes          ...           \\\n",
       "0                            NaN          ...            \n",
       "1       2000 0444 0429 0416 1276          ...            \n",
       "2                 1402 0908 0913          ...            \n",
       "3                      0329 1402          ...            \n",
       "4  2000 1243 0416 1251 0400 0444          ...            \n",
       "\n",
       "                               Weapon Description Status Code  \\\n",
       "0                                             NaN          IC   \n",
       "1  STRONG-ARM (HANDS, FIST, FEET OR BODILY FORCE)          IC   \n",
       "2                                             NaN          AA   \n",
       "3                                             NaN          IC   \n",
       "4  STRONG-ARM (HANDS, FIST, FEET OR BODILY FORCE)          AO   \n",
       "\n",
       "  Status Description  Crime Code 1 Crime Code 2  Crime Code 3 Crime Code 4  \\\n",
       "0        Invest Cont         510.0          NaN           NaN          NaN   \n",
       "1        Invest Cont         626.0          NaN           NaN          NaN   \n",
       "2       Adult Arrest         805.0        998.0           NaN          NaN   \n",
       "3        Invest Cont         745.0        998.0           NaN          NaN   \n",
       "4        Adult Other         626.0          NaN           NaN          NaN   \n",
       "\n",
       "                                   Address                     Cross Street  \\\n",
       "0  6200    FULTON                       AV                              NaN   \n",
       "1   200 E  97TH                         ST                              NaN   \n",
       "2          FIGUEROA                     ST  65TH                         ST   \n",
       "3          HILL                         ST                   CESAR E CHAVEZ   \n",
       "4   500 W  7TH                          ST                              NaN   \n",
       "\n",
       "              Location   \n",
       "0  (34.1814, -118.4263)  \n",
       "1  (33.9483, -118.2717)  \n",
       "2  (33.9807, -118.2827)  \n",
       "3  (34.0591, -118.2412)  \n",
       "4  (34.0467, -118.2556)  \n",
       "\n",
       "[5 rows x 26 columns]"
      ]
     },
     "execution_count": 18,
     "metadata": {},
     "output_type": "execute_result"
    }
   ],
   "source": [
    "crime.head(5)"
   ]
  },
  {
   "cell_type": "markdown",
   "metadata": {},
   "source": [
    "Drop out the columns that we do not need for our analysis"
   ]
  },
  {
   "cell_type": "code",
   "execution_count": 19,
   "metadata": {},
   "outputs": [],
   "source": [
    "crime = crime.drop(columns = ['DR Number', 'Date Reported', 'Area Name', 'Reporting District', 'Crime Code Description', 'Premise Code', 'Premise Description', 'Weapon Used Code', 'MO Codes', 'Weapon Description', 'Status Code', 'Status Description', 'Crime Code 1', 'Crime Code 2', 'Crime Code 3', 'Crime Code 4', 'Cross Street', 'Address', 'Location '])\n",
    "# shape = (1910587, 7)"
   ]
  },
  {
   "cell_type": "markdown",
   "metadata": {},
   "source": [
    "Move target column to the front"
   ]
  },
  {
   "cell_type": "code",
   "execution_count": 20,
   "metadata": {},
   "outputs": [],
   "source": [
    "crime = crime.reindex(['Crime Code', 'Date Occurred', 'Time Occurred', 'Area ID', 'Victim Age', 'Victim Sex', 'Victim Descent'], axis = 'columns')"
   ]
  },
  {
   "cell_type": "markdown",
   "metadata": {},
   "source": [
    "Standardize 'Date Occurred' and 'Time Occurred' columns"
   ]
  },
  {
   "cell_type": "code",
   "execution_count": 21,
   "metadata": {},
   "outputs": [],
   "source": [
    "def combine_year(string):\n",
    "    if '2010' in string:\n",
    "        string = '2010'\n",
    "    elif '2011' in string:\n",
    "        string = '2011'\n",
    "    elif '2012' in string:\n",
    "        string = '2012'\n",
    "    elif '2013' in string:\n",
    "        string = '2013'\n",
    "    elif '2014' in string:\n",
    "        string = '2014'\n",
    "    elif '2015' in string:\n",
    "        string = '2015'\n",
    "    elif '2016' in string:\n",
    "        string = '2016'\n",
    "    elif '2017' in string:\n",
    "        string = '2017'\n",
    "    elif '2018' in string:\n",
    "        string = '2018'\n",
    "    elif '2019' in string:\n",
    "        string = '2019'\n",
    "    return int(string)"
   ]
  },
  {
   "cell_type": "code",
   "execution_count": 22,
   "metadata": {},
   "outputs": [],
   "source": [
    "def hour(time):\n",
    "    if time < 100:\n",
    "        return 0\n",
    "    elif time >= 100:\n",
    "        return time // 100"
   ]
  },
  {
   "cell_type": "markdown",
   "metadata": {},
   "source": [
    "extract each individual type out of each category"
   ]
  },
  {
   "cell_type": "code",
   "execution_count": 23,
   "metadata": {
    "scrolled": false
   },
   "outputs": [
    {
     "name": "stdout",
     "output_type": "stream",
     "text": [
      "Crimes types:\n",
      " [510 626 805 745 236 740 341 442 860 121 820 230 210 624 910 237 930 761\n",
      " 351 310 410 625 821 330 320 888 231 944 623 850 946 480 343 440 420 627\n",
      " 755 220 660 668 763 648 350 421 886 352 813 235 949 951 250 437 753 354\n",
      " 762 331 943 664 110 649 901 662 956 433 900 647 903 950 434 922 666 932\n",
      " 810 251 474 122 441 654 438 520 450 670 353 940 812 661 443 815 451 902\n",
      " 622 928 756 485 439 653 920 924 452 884 444 652 865 890 933 651 870 345\n",
      " 470 840 880 487 446 471 445 830 954 806 760 948 931 473 942 347 822 882\n",
      " 435 814 436 113 349 475 921 432 926 952 472 906 453] \n",
      "Times:\n",
      " [2130  230  800 ...  604 2231  431] \n",
      "Date Occurred:\n",
      " ['01/16/2015' '01/01/2015' '10/01/2015' ... '10/30/2014' '11/22/2014'\n",
      " '12/08/2014'] \n",
      "Areas:\n",
      " [ 9 18 12  1 11 13 14 15 17 10 16 19 20 21  2  3  4  5  6  7  8] \n",
      "Ages:\n",
      " [114.  40.  24.   0.  28.  53.  60.  44.  39.  70.   1.  34.  25.  31.\n",
      "  21.  22.  46.  41.  51.  38.  20.  33.  48.  29.  45.  49.   3.  19.\n",
      "  18.  30.  59.  43.  63.  42.  50.  27.  17.  47.  58.  23.  54.  15.\n",
      "  37.  10.  14.  61.  64.  32.  55.  69.  26.  57.  36.  16.  62.  67.\n",
      "  56. 109.  65.  52.   2.  13.  35.  86.   7.  66.  72. 115.  71. 110.\n",
      "  78.   5.  68.  73.  76.  83.  82.  75.  91.  11.  87.  85.  77.  74.\n",
      " 112.  80.  90.  94.   9.  12.  79.  84.  93.   8.   6.  81.  88.  89.\n",
      "  95.   4.  92.  99. 100.  96.  97. 113.  98.  -1.  -2. 116.  nan 117.\n",
      " 118.  -3. 111.  -4.  -6.  -5.  -7.] \n",
      "Genders:\n",
      " [nan 'F' 'M' 'X' 'H' '-' 'N'] \n",
      "Descents:\n",
      " [nan 'B' 'H' 'W' 'X' 'A' 'O' 'K' 'C' 'I' 'F' 'J' 'P' 'G' 'Z' 'V' 'S' 'U'\n",
      " 'L' 'D' '-']\n"
     ]
    }
   ],
   "source": [
    "types = crime['Crime Code'].unique()\n",
    "times = crime['Time Occurred'].unique()\n",
    "dates = crime['Date Occurred'].unique()\n",
    "areas = crime['Area ID'].unique()\n",
    "ages = crime['Victim Age'].unique()\n",
    "genders = crime['Victim Sex'].unique()\n",
    "descents = crime['Victim Descent'].unique()\n",
    "print('Crimes types:\\n', types, '\\nTimes:\\n', times, '\\nDate Occurred:\\n', dates,'\\nAreas:\\n', areas, '\\nAges:\\n', ages, '\\nGenders:\\n', genders, '\\nDescents:\\n', descents)"
   ]
  },
  {
   "cell_type": "code",
   "execution_count": 24,
   "metadata": {},
   "outputs": [],
   "source": [
    "crime['Date Occurred'] = crime['Date Occurred'].apply(combine_year)\n",
    "crime['Time Occurred'] = crime['Time Occurred'].apply(hour)"
   ]
  },
  {
   "cell_type": "markdown",
   "metadata": {},
   "source": [
    "drop out the missing and unnessary information"
   ]
  },
  {
   "cell_type": "code",
   "execution_count": 25,
   "metadata": {},
   "outputs": [
    {
     "name": "stdout",
     "output_type": "stream",
     "text": [
      "(1339982, 7)\n"
     ]
    }
   ],
   "source": [
    "crime.dropna(inplace = True)\n",
    "crime.drop(crime[(crime['Victim Sex'] == 'X') | (crime['Victim Sex'] == 'H') | (crime['Victim Sex'] == '-') | (crime['Victim Sex'] == 'N')].index, inplace = True)\n",
    "crime.drop(crime[(crime['Victim Descent'] == '-')].index, inplace = True)\n",
    "crime.drop(crime[(crime['Victim Age'] < 0)].index, inplace = True)\n",
    "\n",
    "print(crime.shape)\n",
    "# shape = (1339982, 7)"
   ]
  },
  {
   "cell_type": "code",
   "execution_count": 26,
   "metadata": {},
   "outputs": [
    {
     "name": "stdout",
     "output_type": "stream",
     "text": [
      "Times:\n",
      " [ 2  8  0 11 21 17 16 14 18  1  9 23 12 20 15 22  3 19  4  6 13 10  5  7] \n",
      "Date Occurred:\n",
      " [2015 2010 2013 2014 2016 2017 2018 2019 2012 2011] \n",
      "Areas:\n",
      " [18 12  1 11 13 14 15 17 10 16 19 20 21  9  2  3  4  5  6  7  8] \n",
      "Ages:\n",
      " [ 40.  24.   0.  28.  53.  60.  44.  39.  70.  34.  25.  31.  21.  22.\n",
      "  46.  41.  51.  38.  20.  33.  48.  29.  45.  49.   3.  19.  18.  30.\n",
      "  59.  43.  63.  42.  50.  27.  17.  47.  58.  23.  54.  15.  37.  10.\n",
      "  14.  61.  64.  32.   1.  55.  69.  26.  57.  36.  16.  62.  67.  56.\n",
      "  65.  52.   2.  13.  35.  86.   7.  66.  72.  71.  78.   5.  68.  73.\n",
      "  76.  83.  82.  75. 114.  91.  11.  87.  85.  77.  74.  80.  90. 112.\n",
      "  94.   9.  12.  79.  84.  93. 115.   8.   6.  81.  88.  89.  95.   4.\n",
      "  92.  99. 100.  96.  97.  98. 109. 110. 116. 113. 111.] \n",
      "Genders:\n",
      " ['F' 'M'] \n",
      "Descents:\n",
      " ['B' 'H' 'W' 'A' 'O' 'X' 'K' 'C' 'I' 'F' 'J' 'P' 'G' 'Z' 'V' 'S' 'U' 'L'\n",
      " 'D']\n"
     ]
    }
   ],
   "source": [
    "times = crime['Time Occurred'].unique()\n",
    "dates = crime['Date Occurred'].unique()\n",
    "areas = crime['Area ID'].unique()\n",
    "ages = crime['Victim Age'].unique()\n",
    "genders = crime['Victim Sex'].unique()\n",
    "descents = crime['Victim Descent'].unique()\n",
    "print('Times:\\n', times, '\\nDate Occurred:\\n', dates,'\\nAreas:\\n', areas, '\\nAges:\\n', ages, '\\nGenders:\\n', genders, '\\nDescents:\\n', descents)"
   ]
  },
  {
   "cell_type": "markdown",
   "metadata": {},
   "source": [
    "convert each string into a unique integer by using the sklearn library"
   ]
  },
  {
   "cell_type": "code",
   "execution_count": 105,
   "metadata": {},
   "outputs": [
    {
     "name": "stdout",
     "output_type": "stream",
     "text": [
      "   Crime Code Date Occurred  Time Occurred  Area ID  Victim Age  Victim Sex  \\\n",
      "1         626          2015              2       18        40.0           0   \n",
      "2         805          2015              8       12        24.0           0   \n",
      "3         745          2015              0        1         0.0           1   \n",
      "4         626          2015              2        1        28.0           0   \n",
      "5         236          2015             11        1        53.0           0   \n",
      "\n",
      "   Victim Descent  \n",
      "1               1  \n",
      "2               1  \n",
      "3               6  \n",
      "4              16  \n",
      "5               1  \n"
     ]
    }
   ],
   "source": [
    "le = preprocessing.LabelEncoder()\n",
    "crime['Victim Sex'] = le.fit_transform(crime['Victim Sex'])\n",
    "# crime['Area ID'] = le.fit_transform(crime['Area ID'])\n",
    "# crime['Time Occurred'] = le.fit_transform(crime['Time Occurred'])\n",
    "# crime.iloc[:,0] = le.fit_transform(crime.iloc[:,0])\n",
    "crime.iloc[:,-1] = le.fit_transform(crime.iloc[:,-1])\n",
    "print(crime.head(5))"
   ]
  },
  {
   "cell_type": "code",
   "execution_count": 106,
   "metadata": {},
   "outputs": [
    {
     "name": "stdout",
     "output_type": "stream",
     "text": [
      "[<class 'int'>    1339982\n",
      "Name: Crime Code, dtype: int64, <class 'str'>    1339982\n",
      "Name: Date Occurred, dtype: int64, <class 'int'>    1339982\n",
      "Name: Time Occurred, dtype: int64, <class 'int'>    1339982\n",
      "Name: Area ID, dtype: int64, <class 'float'>    1339982\n",
      "Name: Victim Age, dtype: int64, <class 'int'>    1339982\n",
      "Name: Victim Sex, dtype: int64, <class 'int'>    1339982\n",
      "Name: Victim Descent, dtype: int64]\n"
     ]
    }
   ],
   "source": [
    "#checking columns' datatype\n",
    "\n",
    "dtypeCount =[crime.iloc[:,i].apply(type).value_counts() for i in range(crime.shape[1])]\n",
    "print(dtypeCount)"
   ]
  },
  {
   "cell_type": "markdown",
   "metadata": {},
   "source": [
    "Filter the date that only include the years from 2015-2017 and convert the column to arrays. Store the second row to last row of the table into X and store the first column to Y"
   ]
  },
  {
   "cell_type": "code",
   "execution_count": 34,
   "metadata": {},
   "outputs": [],
   "source": [
    "# Training set\n",
    "crime_2015_2018 = crime.loc[(crime['Date Occurred'] >= 2015) & (crime['Date Occurred'] < 2018)]  # shape = ((429720, 7))\n",
    "crime_2015_2018.pop('Date Occurred')\n",
    "\n",
    "# print(crime_before_2018.shape)\n",
    "crime_X = np.array(crime_2015_2018.iloc[:,1:].copy())  # shape = (429720, 5)\n",
    "crime_y = np.array(crime_2015_2018.iloc[:,0].copy())  # shape = (429720,)"
   ]
  },
  {
   "cell_type": "markdown",
   "metadata": {},
   "source": [
    "Extract the data for 2018 and convert them to arrary. and second row to last row of the table into X, and store the first row to crime_2018_x"
   ]
  },
  {
   "cell_type": "code",
   "execution_count": 35,
   "metadata": {},
   "outputs": [],
   "source": [
    "# Testing set\n",
    "\n",
    "crime_2018 = crime.loc[crime['Date Occurred'] == 2018]  # shape = (3461, 7)\n",
    "crime_2018.pop('Date Occurred')\n",
    "\n",
    "\n",
    "# print(crime_2018.shape)\n",
    "crime_2018_X = np.array(crime_2018.iloc[:,1:].copy())  # shape = (3461, 5)\n",
    "crime_2018_y = np.array(crime_2018.iloc[:,0].copy())  # shape = (3461,)"
   ]
  },
  {
   "cell_type": "markdown",
   "metadata": {},
   "source": [
    "split arrays to train and test subsets"
   ]
  },
  {
   "cell_type": "code",
   "execution_count": 16,
   "metadata": {},
   "outputs": [],
   "source": [
    "X_train, X_test, y_train, y_test = train_test_split(crime_X, crime_y, test_size=0.2, random_state=42)\n",
    "crime_types = len(types)"
   ]
  },
  {
   "cell_type": "markdown",
   "metadata": {},
   "source": [
    "Apply the KNeighborsClassifier to store the nearest neighbors to KNN_clf Fit the model using X as training data and y as target values"
   ]
  },
  {
   "cell_type": "code",
   "execution_count": 17,
   "metadata": {
    "scrolled": true
   },
   "outputs": [
    {
     "data": {
      "text/plain": [
       "KNeighborsClassifier(algorithm='auto', leaf_size=30, metric='minkowski',\n",
       "           metric_params=None, n_jobs=1, n_neighbors=139, p=2,\n",
       "           weights='uniform')"
      ]
     },
     "execution_count": 17,
     "metadata": {},
     "output_type": "execute_result"
    }
   ],
   "source": [
    "#KNN\n",
    "\n",
    "KNN_clf = KNeighborsClassifier(n_neighbors = crime_types)\n",
    "KNN_clf.fit(X_train, y_train)"
   ]
  },
  {
   "cell_type": "markdown",
   "metadata": {},
   "source": [
    "Calculate the prediction and accuracy"
   ]
  },
  {
   "cell_type": "code",
   "execution_count": 18,
   "metadata": {
    "scrolled": true
   },
   "outputs": [
    {
     "name": "stdout",
     "output_type": "stream",
     "text": [
      "Train Accuracy = 18.17\n",
      "Test Accuracy = 16.54\n",
      "Prediction Accurary for 2018 = 14.07\n"
     ]
    }
   ],
   "source": [
    "train_pred_knn = KNN_clf.predict(X_train)\n",
    "test_pred_knn = KNN_clf.predict(X_test)\n",
    "knn_pred_2018 = KNN_clf.predict(crime_2018_X)\n",
    "\n",
    "knn_train_acc = accuracy_score(y_train, train_pred_knn) * 100\n",
    "knn_test_acc = accuracy_score(y_test, test_pred_knn) * 100\n",
    "\n",
    "knn_acc = (knn_pred_2018 == crime_2018_y).sum() / crime_2018_y.shape[0] * 100\n",
    "\n",
    "print('Train Accuracy = %.2f' %knn_train_acc)\n",
    "print('Test Accuracy = %.2f' %knn_test_acc)\n",
    "\n",
    "print('Prediction Accurary for 2018 = %.2f' %knn_acc)"
   ]
  },
  {
   "cell_type": "markdown",
   "metadata": {},
   "source": [
    "Use the K-means algorithm and Fit the model using X as training data and y as target values"
   ]
  },
  {
   "cell_type": "code",
   "execution_count": 19,
   "metadata": {
    "scrolled": true
   },
   "outputs": [
    {
     "data": {
      "text/plain": [
       "KMeans(algorithm='auto', copy_x=True, init='k-means++', max_iter=300,\n",
       "    n_clusters=139, n_init=10, n_jobs=1, precompute_distances='auto',\n",
       "    random_state=0, tol=0.0001, verbose=0)"
      ]
     },
     "execution_count": 19,
     "metadata": {},
     "output_type": "execute_result"
    }
   ],
   "source": [
    "#K-Means\n",
    "\n",
    "kmeans_clf = KMeans(n_clusters = crime_types, random_state=0)\n",
    "kmeans_clf.fit(X_train, y_train)"
   ]
  },
  {
   "cell_type": "markdown",
   "metadata": {},
   "source": [
    "Calculate the prediction and accuracy"
   ]
  },
  {
   "cell_type": "code",
   "execution_count": 20,
   "metadata": {},
   "outputs": [
    {
     "name": "stdout",
     "output_type": "stream",
     "text": [
      "Train Accuracy = 0.55\n",
      "Test Accuracy = 0.56\n",
      "Prediction Accurary for 2018 = 0.69\n"
     ]
    }
   ],
   "source": [
    "train_pred_km = kmeans_clf.predict(X_train)\n",
    "test_pred_km = kmeans_clf.predict(X_test)\n",
    "km_pred_2018 = kmeans_clf.predict(crime_2018_X)\n",
    "\n",
    "km_train_acc = accuracy_score(y_train, train_pred_km) * 100\n",
    "km_test_acc = accuracy_score(y_test, test_pred_km) * 100\n",
    "\n",
    "km_acc = (km_pred_2018 == crime_2018_y).sum() / crime_2018_y.shape[0] * 100\n",
    "\n",
    "print('Train Accuracy = %.2f' %km_train_acc)\n",
    "print('Test Accuracy = %.2f' %km_test_acc)\n",
    "\n",
    "print('Prediction Accurary for 2018 = %.2f' %km_acc)"
   ]
  },
  {
   "cell_type": "markdown",
   "metadata": {},
   "source": [
    "Use Linear Discriminant Analysis method to analyze our data Fit the model using X as training data and y as target values"
   ]
  },
  {
   "cell_type": "code",
   "execution_count": 21,
   "metadata": {
    "scrolled": true
   },
   "outputs": [
    {
     "name": "stderr",
     "output_type": "stream",
     "text": [
      "C:\\Users\\iknne\\Anaconda3\\Anaconda3\\lib\\site-packages\\sklearn\\discriminant_analysis.py:442: UserWarning: The priors do not sum to 1. Renormalizing\n",
      "  UserWarning)\n"
     ]
    },
    {
     "data": {
      "text/plain": [
       "LinearDiscriminantAnalysis(n_components=None, priors=None, shrinkage=None,\n",
       "              solver='svd', store_covariance=False, tol=0.0001)"
      ]
     },
     "execution_count": 21,
     "metadata": {},
     "output_type": "execute_result"
    }
   ],
   "source": [
    "#Linear Discriminant Analysis\n",
    "\n",
    "lda_clf = LinearDiscriminantAnalysis()\n",
    "lda_clf.fit(X_train, y_train)"
   ]
  },
  {
   "cell_type": "markdown",
   "metadata": {},
   "source": [
    "Calculate the prediction and accuracy"
   ]
  },
  {
   "cell_type": "code",
   "execution_count": 22,
   "metadata": {},
   "outputs": [
    {
     "name": "stdout",
     "output_type": "stream",
     "text": [
      "Train Accuracy = 13.30\n",
      "Test Accuracy = 13.26\n",
      "Prediction Accurary for 2018 = 13.55\n"
     ]
    }
   ],
   "source": [
    "train_pred_lda = lda_clf.predict(X_train)\n",
    "test_pred_lda = lda_clf.predict(X_test)\n",
    "lda_pred_2018 = lda_clf.predict(crime_2018_X)\n",
    "\n",
    "lda_train_acc = accuracy_score(y_train, train_pred_lda) * 100\n",
    "lda_test_acc = accuracy_score(y_test, test_pred_lda) * 100\n",
    "\n",
    "lda_acc = (lda_pred_2018 == crime_2018_y).sum() / crime_2018_y.shape[0] * 100\n",
    "\n",
    "print('Train Accuracy = %.2f' %lda_train_acc)\n",
    "print('Test Accuracy = %.2f' %lda_test_acc)\n",
    "\n",
    "print('Prediction Accurary for 2018 = %.2f' %lda_acc)"
   ]
  }
 ],
 "metadata": {
  "kernelspec": {
   "display_name": "Python 3",
   "language": "python",
   "name": "python3"
  },
  "language_info": {
   "codemirror_mode": {
    "name": "ipython",
    "version": 3
   },
   "file_extension": ".py",
   "mimetype": "text/x-python",
   "name": "python",
   "nbconvert_exporter": "python",
   "pygments_lexer": "ipython3",
   "version": "3.6.5"
  }
 },
 "nbformat": 4,
 "nbformat_minor": 2
}
